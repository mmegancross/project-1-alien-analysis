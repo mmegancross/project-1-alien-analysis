{
 "cells": [
  {
   "cell_type": "code",
   "execution_count": 15,
   "metadata": {},
   "outputs": [],
   "source": [
    "#import dependecies \n",
    "import matplotlib.pyplot as plt\n",
    "import requests\n",
    "from scipy import stats\n",
    "import pandas as pd\n",
    "import datetime\n",
    "#from config import api_key"
   ]
  },
  {
   "cell_type": "code",
   "execution_count": 16,
   "metadata": {},
   "outputs": [
    {
     "name": "stderr",
     "output_type": "stream",
     "text": [
      "C:\\Users\\jocel\\.conda\\envs\\PythonData\\lib\\site-packages\\IPython\\core\\interactiveshell.py:3072: DtypeWarning: Columns (5,9) have mixed types.Specify dtype option on import or set low_memory=False.\n",
      "  interactivity=interactivity, compiler=compiler, result=result)\n"
     ]
    },
    {
     "data": {
      "text/html": [
       "<div>\n",
       "<style scoped>\n",
       "    .dataframe tbody tr th:only-of-type {\n",
       "        vertical-align: middle;\n",
       "    }\n",
       "\n",
       "    .dataframe tbody tr th {\n",
       "        vertical-align: top;\n",
       "    }\n",
       "\n",
       "    .dataframe thead th {\n",
       "        text-align: right;\n",
       "    }\n",
       "</style>\n",
       "<table border=\"1\" class=\"dataframe\">\n",
       "  <thead>\n",
       "    <tr style=\"text-align: right;\">\n",
       "      <th></th>\n",
       "      <th>datetime</th>\n",
       "      <th>city</th>\n",
       "      <th>state</th>\n",
       "      <th>country</th>\n",
       "      <th>shape</th>\n",
       "      <th>duration (seconds)</th>\n",
       "      <th>duration (hours/min)</th>\n",
       "      <th>comments</th>\n",
       "      <th>date posted</th>\n",
       "      <th>latitude</th>\n",
       "      <th>longitude</th>\n",
       "    </tr>\n",
       "  </thead>\n",
       "  <tbody>\n",
       "    <tr>\n",
       "      <th>0</th>\n",
       "      <td>10/10/1949 20:30</td>\n",
       "      <td>san marcos</td>\n",
       "      <td>tx</td>\n",
       "      <td>us</td>\n",
       "      <td>cylinder</td>\n",
       "      <td>2700</td>\n",
       "      <td>45 minutes</td>\n",
       "      <td>This event took place in early fall around 194...</td>\n",
       "      <td>4/27/2004</td>\n",
       "      <td>29.8830556</td>\n",
       "      <td>-97.941111</td>\n",
       "    </tr>\n",
       "    <tr>\n",
       "      <th>3</th>\n",
       "      <td>10/10/1956 21:00</td>\n",
       "      <td>edna</td>\n",
       "      <td>tx</td>\n",
       "      <td>us</td>\n",
       "      <td>circle</td>\n",
       "      <td>20</td>\n",
       "      <td>1/2 hour</td>\n",
       "      <td>My older brother and twin sister were leaving ...</td>\n",
       "      <td>1/17/2004</td>\n",
       "      <td>28.9783333</td>\n",
       "      <td>-96.645833</td>\n",
       "    </tr>\n",
       "    <tr>\n",
       "      <th>4</th>\n",
       "      <td>10/10/1960 20:00</td>\n",
       "      <td>kaneohe</td>\n",
       "      <td>hi</td>\n",
       "      <td>us</td>\n",
       "      <td>light</td>\n",
       "      <td>900</td>\n",
       "      <td>15 minutes</td>\n",
       "      <td>AS a Marine 1st Lt. flying an FJ4B fighter/att...</td>\n",
       "      <td>1/22/2004</td>\n",
       "      <td>21.4180556</td>\n",
       "      <td>-157.803611</td>\n",
       "    </tr>\n",
       "    <tr>\n",
       "      <th>5</th>\n",
       "      <td>10/10/1961 19:00</td>\n",
       "      <td>bristol</td>\n",
       "      <td>tn</td>\n",
       "      <td>us</td>\n",
       "      <td>sphere</td>\n",
       "      <td>300</td>\n",
       "      <td>5 minutes</td>\n",
       "      <td>My father is now 89 my brother 52 the girl wit...</td>\n",
       "      <td>4/27/2007</td>\n",
       "      <td>36.5950000</td>\n",
       "      <td>-82.188889</td>\n",
       "    </tr>\n",
       "    <tr>\n",
       "      <th>7</th>\n",
       "      <td>10/10/1965 23:45</td>\n",
       "      <td>norwalk</td>\n",
       "      <td>ct</td>\n",
       "      <td>us</td>\n",
       "      <td>disk</td>\n",
       "      <td>1200</td>\n",
       "      <td>20 minutes</td>\n",
       "      <td>A bright orange color changing to reddish colo...</td>\n",
       "      <td>10/2/1999</td>\n",
       "      <td>41.1175000</td>\n",
       "      <td>-73.408333</td>\n",
       "    </tr>\n",
       "  </tbody>\n",
       "</table>\n",
       "</div>"
      ],
      "text/plain": [
       "           datetime        city state country     shape duration (seconds)  \\\n",
       "0  10/10/1949 20:30  san marcos    tx      us  cylinder               2700   \n",
       "3  10/10/1956 21:00        edna    tx      us    circle                 20   \n",
       "4  10/10/1960 20:00     kaneohe    hi      us     light                900   \n",
       "5  10/10/1961 19:00     bristol    tn      us    sphere                300   \n",
       "7  10/10/1965 23:45     norwalk    ct      us      disk               1200   \n",
       "\n",
       "  duration (hours/min)                                           comments  \\\n",
       "0           45 minutes  This event took place in early fall around 194...   \n",
       "3             1/2 hour  My older brother and twin sister were leaving ...   \n",
       "4           15 minutes  AS a Marine 1st Lt. flying an FJ4B fighter/att...   \n",
       "5            5 minutes  My father is now 89 my brother 52 the girl wit...   \n",
       "7           20 minutes  A bright orange color changing to reddish colo...   \n",
       "\n",
       "  date posted    latitude  longitude   \n",
       "0   4/27/2004  29.8830556  -97.941111  \n",
       "3   1/17/2004  28.9783333  -96.645833  \n",
       "4   1/22/2004  21.4180556 -157.803611  \n",
       "5   4/27/2007  36.5950000  -82.188889  \n",
       "7   10/2/1999  41.1175000  -73.408333  "
      ]
     },
     "execution_count": 16,
     "metadata": {},
     "output_type": "execute_result"
    }
   ],
   "source": [
    "#import csv to create inital data frame\n",
    "alien_5y_df = pd.read_csv('../project-1-alien-analysis/scrubbed.csv')\n",
    "alien_5y_df.dropna(inplace = True) \n",
    "alien_5y_df.head()"
   ]
  },
  {
   "cell_type": "code",
   "execution_count": 17,
   "metadata": {},
   "outputs": [
    {
     "data": {
      "text/html": [
       "<div>\n",
       "<style scoped>\n",
       "    .dataframe tbody tr th:only-of-type {\n",
       "        vertical-align: middle;\n",
       "    }\n",
       "\n",
       "    .dataframe tbody tr th {\n",
       "        vertical-align: top;\n",
       "    }\n",
       "\n",
       "    .dataframe thead th {\n",
       "        text-align: right;\n",
       "    }\n",
       "</style>\n",
       "<table border=\"1\" class=\"dataframe\">\n",
       "  <thead>\n",
       "    <tr style=\"text-align: right;\">\n",
       "      <th></th>\n",
       "      <th>datetime</th>\n",
       "      <th>city</th>\n",
       "      <th>state</th>\n",
       "      <th>country</th>\n",
       "      <th>shape</th>\n",
       "      <th>duration (seconds)</th>\n",
       "      <th>duration (hours/min)</th>\n",
       "      <th>comments</th>\n",
       "      <th>date posted</th>\n",
       "      <th>latitude</th>\n",
       "      <th>longitude</th>\n",
       "    </tr>\n",
       "  </thead>\n",
       "  <tbody>\n",
       "    <tr>\n",
       "      <th>79474</th>\n",
       "      <td>9/5/2013 22:30</td>\n",
       "      <td>shrewsbury</td>\n",
       "      <td>pa</td>\n",
       "      <td>us</td>\n",
       "      <td>circle</td>\n",
       "      <td>120</td>\n",
       "      <td>2 minute</td>\n",
       "      <td>Bright orange round light in sky moving slowly...</td>\n",
       "      <td>9/9/2013</td>\n",
       "      <td>39.7686</td>\n",
       "      <td>-76.680000</td>\n",
       "    </tr>\n",
       "    <tr>\n",
       "      <th>62676</th>\n",
       "      <td>7/4/2013 22:00</td>\n",
       "      <td>copiague</td>\n",
       "      <td>ny</td>\n",
       "      <td>us</td>\n",
       "      <td>light</td>\n",
       "      <td>10</td>\n",
       "      <td>10 seconds</td>\n",
       "      <td>He came&amp;#44 changed colors&amp;#44 then just disap...</td>\n",
       "      <td>9/9/2013</td>\n",
       "      <td>40.6813889</td>\n",
       "      <td>-73.400278</td>\n",
       "    </tr>\n",
       "    <tr>\n",
       "      <th>79468</th>\n",
       "      <td>9/5/2013 21:00</td>\n",
       "      <td>hayden</td>\n",
       "      <td>al</td>\n",
       "      <td>us</td>\n",
       "      <td>unknown</td>\n",
       "      <td>300</td>\n",
       "      <td>5 minutes</td>\n",
       "      <td>Approx. 21:00 hrs seen two lights very close t...</td>\n",
       "      <td>9/9/2013</td>\n",
       "      <td>33.8925</td>\n",
       "      <td>-86.757778</td>\n",
       "    </tr>\n",
       "    <tr>\n",
       "      <th>79466</th>\n",
       "      <td>9/5/2013 21:00</td>\n",
       "      <td>emerald isle</td>\n",
       "      <td>nc</td>\n",
       "      <td>us</td>\n",
       "      <td>circle</td>\n",
       "      <td>120</td>\n",
       "      <td>2 minutes</td>\n",
       "      <td>Emerald Isle orange lights.</td>\n",
       "      <td>9/9/2013</td>\n",
       "      <td>34.6778</td>\n",
       "      <td>-76.951111</td>\n",
       "    </tr>\n",
       "    <tr>\n",
       "      <th>79465</th>\n",
       "      <td>9/5/2013 21:00</td>\n",
       "      <td>easton</td>\n",
       "      <td>pa</td>\n",
       "      <td>us</td>\n",
       "      <td>fireball</td>\n",
       "      <td>180</td>\n",
       "      <td>2-3 minutes</td>\n",
       "      <td>Round object high in sky with flames coming fr...</td>\n",
       "      <td>9/9/2013</td>\n",
       "      <td>40.6883</td>\n",
       "      <td>-75.221111</td>\n",
       "    </tr>\n",
       "  </tbody>\n",
       "</table>\n",
       "</div>"
      ],
      "text/plain": [
       "             datetime          city state country     shape  \\\n",
       "79474  9/5/2013 22:30    shrewsbury    pa      us    circle   \n",
       "62676  7/4/2013 22:00      copiague    ny      us     light   \n",
       "79468  9/5/2013 21:00        hayden    al      us   unknown   \n",
       "79466  9/5/2013 21:00  emerald isle    nc      us    circle   \n",
       "79465  9/5/2013 21:00        easton    pa      us  fireball   \n",
       "\n",
       "      duration (seconds) duration (hours/min)  \\\n",
       "79474                120             2 minute   \n",
       "62676                 10           10 seconds   \n",
       "79468                300            5 minutes   \n",
       "79466                120            2 minutes   \n",
       "79465                180          2-3 minutes   \n",
       "\n",
       "                                                comments date posted  \\\n",
       "79474  Bright orange round light in sky moving slowly...    9/9/2013   \n",
       "62676  He came&#44 changed colors&#44 then just disap...    9/9/2013   \n",
       "79468  Approx. 21:00 hrs seen two lights very close t...    9/9/2013   \n",
       "79466                        Emerald Isle orange lights.    9/9/2013   \n",
       "79465  Round object high in sky with flames coming fr...    9/9/2013   \n",
       "\n",
       "         latitude  longitude   \n",
       "79474     39.7686  -76.680000  \n",
       "62676  40.6813889  -73.400278  \n",
       "79468     33.8925  -86.757778  \n",
       "79466     34.6778  -76.951111  \n",
       "79465     40.6883  -75.221111  "
      ]
     },
     "execution_count": 17,
     "metadata": {},
     "output_type": "execute_result"
    }
   ],
   "source": [
    "#sort by date posted (delete?)\n",
    "alien_5y_df.sort_values(by=['date posted'], inplace=True, ascending=False)\n",
    "alien_5y_df.head()"
   ]
  },
  {
   "cell_type": "code",
   "execution_count": 18,
   "metadata": {},
   "outputs": [
    {
     "data": {
      "text/plain": [
       "count     66516\n",
       "unique      620\n",
       "top         300\n",
       "freq       5920\n",
       "Name: duration (seconds), dtype: object"
      ]
     },
     "execution_count": 18,
     "metadata": {},
     "output_type": "execute_result"
    }
   ],
   "source": [
    "#check counts and set \n",
    "alien_5y_df[\"duration (seconds)\"].describe()"
   ]
  },
  {
   "cell_type": "code",
   "execution_count": null,
   "metadata": {},
   "outputs": [],
   "source": [
    "\n",
    "#Print bins\n",
    "\n",
    "ted_df[\"Bin Group\"] = pd.cut(ted_df[\"views\"], bins, labels=labels)\n",
    "ted_df.head()"
   ]
  },
  {
   "cell_type": "code",
   "execution_count": 47,
   "metadata": {},
   "outputs": [
    {
     "ename": "ValueError",
     "evalue": "Buffer has wrong number of dimensions (expected 1, got 2)",
     "output_type": "error",
     "traceback": [
      "\u001b[1;31m---------------------------------------------------------------------------\u001b[0m",
      "\u001b[1;31mValueError\u001b[0m                                Traceback (most recent call last)",
      "\u001b[1;32m<ipython-input-47-bb59bdb8ea49>\u001b[0m in \u001b[0;36m<module>\u001b[1;34m\u001b[0m\n\u001b[0;32m     11\u001b[0m \u001b[0mlabels\u001b[0m \u001b[1;33m=\u001b[0m \u001b[1;33m[\u001b[0m\u001b[1;34m'1992-1996'\u001b[0m\u001b[1;33m,\u001b[0m \u001b[1;34m'1997-2001'\u001b[0m\u001b[1;33m,\u001b[0m \u001b[1;34m'2002-2006'\u001b[0m\u001b[1;33m,\u001b[0m \u001b[1;34m'2007-2011'\u001b[0m\u001b[1;33m,\u001b[0m \u001b[1;34m'2012-2014'\u001b[0m\u001b[1;33m]\u001b[0m\u001b[1;33m\u001b[0m\u001b[1;33m\u001b[0m\u001b[0m\n\u001b[0;32m     12\u001b[0m \u001b[1;31m# add the bins to the dataframe\u001b[0m\u001b[1;33m\u001b[0m\u001b[1;33m\u001b[0m\u001b[1;33m\u001b[0m\u001b[0m\n\u001b[1;32m---> 13\u001b[1;33m \u001b[0mAdate_df\u001b[0m \u001b[1;33m=\u001b[0m \u001b[0mpd\u001b[0m\u001b[1;33m.\u001b[0m\u001b[0mcut\u001b[0m\u001b[1;33m(\u001b[0m\u001b[0mx\u001b[0m\u001b[1;33m=\u001b[0m\u001b[0malien_5y_df\u001b[0m\u001b[1;33m[\u001b[0m\u001b[1;34m'date posted'\u001b[0m\u001b[1;33m]\u001b[0m\u001b[1;33m,\u001b[0m\u001b[0mbins\u001b[0m \u001b[1;33m=\u001b[0m \u001b[1;33m[\u001b[0m\u001b[0mbins\u001b[0m\u001b[1;33m]\u001b[0m\u001b[1;33m,\u001b[0m \u001b[0mlabels\u001b[0m \u001b[1;33m=\u001b[0m \u001b[1;33m[\u001b[0m\u001b[1;34m'labels'\u001b[0m\u001b[1;33m]\u001b[0m\u001b[1;33m)\u001b[0m\u001b[1;33m\u001b[0m\u001b[1;33m\u001b[0m\u001b[0m\n\u001b[0m\u001b[0;32m     14\u001b[0m \u001b[1;33m\u001b[0m\u001b[0m\n\u001b[0;32m     15\u001b[0m \u001b[1;31m# Adate_df = pd.DateFrame[{\"Date Posted\": labels\u001b[0m\u001b[1;33m\u001b[0m\u001b[1;33m\u001b[0m\u001b[1;33m\u001b[0m\u001b[0m\n",
      "\u001b[1;32m~\\.conda\\envs\\PythonData\\lib\\site-packages\\pandas\\core\\reshape\\tile.py\u001b[0m in \u001b[0;36mcut\u001b[1;34m(x, bins, right, labels, retbins, precision, include_lowest, duplicates)\u001b[0m\n\u001b[0;32m    263\u001b[0m         \u001b[0minclude_lowest\u001b[0m\u001b[1;33m=\u001b[0m\u001b[0minclude_lowest\u001b[0m\u001b[1;33m,\u001b[0m\u001b[1;33m\u001b[0m\u001b[1;33m\u001b[0m\u001b[0m\n\u001b[0;32m    264\u001b[0m         \u001b[0mdtype\u001b[0m\u001b[1;33m=\u001b[0m\u001b[0mdtype\u001b[0m\u001b[1;33m,\u001b[0m\u001b[1;33m\u001b[0m\u001b[1;33m\u001b[0m\u001b[0m\n\u001b[1;32m--> 265\u001b[1;33m         \u001b[0mduplicates\u001b[0m\u001b[1;33m=\u001b[0m\u001b[0mduplicates\u001b[0m\u001b[1;33m,\u001b[0m\u001b[1;33m\u001b[0m\u001b[1;33m\u001b[0m\u001b[0m\n\u001b[0m\u001b[0;32m    266\u001b[0m     )\n\u001b[0;32m    267\u001b[0m \u001b[1;33m\u001b[0m\u001b[0m\n",
      "\u001b[1;32m~\\.conda\\envs\\PythonData\\lib\\site-packages\\pandas\\core\\reshape\\tile.py\u001b[0m in \u001b[0;36m_bins_to_cuts\u001b[1;34m(x, bins, right, labels, precision, include_lowest, dtype, duplicates)\u001b[0m\n\u001b[0;32m    375\u001b[0m         \u001b[1;32mreturn\u001b[0m \u001b[0mresult\u001b[0m\u001b[1;33m,\u001b[0m \u001b[0mbins\u001b[0m\u001b[1;33m\u001b[0m\u001b[1;33m\u001b[0m\u001b[0m\n\u001b[0;32m    376\u001b[0m \u001b[1;33m\u001b[0m\u001b[0m\n\u001b[1;32m--> 377\u001b[1;33m     \u001b[0munique_bins\u001b[0m \u001b[1;33m=\u001b[0m \u001b[0malgos\u001b[0m\u001b[1;33m.\u001b[0m\u001b[0munique\u001b[0m\u001b[1;33m(\u001b[0m\u001b[0mbins\u001b[0m\u001b[1;33m)\u001b[0m\u001b[1;33m\u001b[0m\u001b[1;33m\u001b[0m\u001b[0m\n\u001b[0m\u001b[0;32m    378\u001b[0m     \u001b[1;32mif\u001b[0m \u001b[0mlen\u001b[0m\u001b[1;33m(\u001b[0m\u001b[0munique_bins\u001b[0m\u001b[1;33m)\u001b[0m \u001b[1;33m<\u001b[0m \u001b[0mlen\u001b[0m\u001b[1;33m(\u001b[0m\u001b[0mbins\u001b[0m\u001b[1;33m)\u001b[0m \u001b[1;32mand\u001b[0m \u001b[0mlen\u001b[0m\u001b[1;33m(\u001b[0m\u001b[0mbins\u001b[0m\u001b[1;33m)\u001b[0m \u001b[1;33m!=\u001b[0m \u001b[1;36m2\u001b[0m\u001b[1;33m:\u001b[0m\u001b[1;33m\u001b[0m\u001b[1;33m\u001b[0m\u001b[0m\n\u001b[0;32m    379\u001b[0m         \u001b[1;32mif\u001b[0m \u001b[0mduplicates\u001b[0m \u001b[1;33m==\u001b[0m \u001b[1;34m\"raise\"\u001b[0m\u001b[1;33m:\u001b[0m\u001b[1;33m\u001b[0m\u001b[1;33m\u001b[0m\u001b[0m\n",
      "\u001b[1;32m~\\.conda\\envs\\PythonData\\lib\\site-packages\\pandas\\core\\algorithms.py\u001b[0m in \u001b[0;36munique\u001b[1;34m(values)\u001b[0m\n\u001b[0;32m    380\u001b[0m \u001b[1;33m\u001b[0m\u001b[0m\n\u001b[0;32m    381\u001b[0m     \u001b[0mtable\u001b[0m \u001b[1;33m=\u001b[0m \u001b[0mhtable\u001b[0m\u001b[1;33m(\u001b[0m\u001b[0mlen\u001b[0m\u001b[1;33m(\u001b[0m\u001b[0mvalues\u001b[0m\u001b[1;33m)\u001b[0m\u001b[1;33m)\u001b[0m\u001b[1;33m\u001b[0m\u001b[1;33m\u001b[0m\u001b[0m\n\u001b[1;32m--> 382\u001b[1;33m     \u001b[0muniques\u001b[0m \u001b[1;33m=\u001b[0m \u001b[0mtable\u001b[0m\u001b[1;33m.\u001b[0m\u001b[0munique\u001b[0m\u001b[1;33m(\u001b[0m\u001b[0mvalues\u001b[0m\u001b[1;33m)\u001b[0m\u001b[1;33m\u001b[0m\u001b[1;33m\u001b[0m\u001b[0m\n\u001b[0m\u001b[0;32m    383\u001b[0m     \u001b[0muniques\u001b[0m \u001b[1;33m=\u001b[0m \u001b[0m_reconstruct_data\u001b[0m\u001b[1;33m(\u001b[0m\u001b[0muniques\u001b[0m\u001b[1;33m,\u001b[0m \u001b[0moriginal\u001b[0m\u001b[1;33m.\u001b[0m\u001b[0mdtype\u001b[0m\u001b[1;33m,\u001b[0m \u001b[0moriginal\u001b[0m\u001b[1;33m)\u001b[0m\u001b[1;33m\u001b[0m\u001b[1;33m\u001b[0m\u001b[0m\n\u001b[0;32m    384\u001b[0m     \u001b[1;32mreturn\u001b[0m \u001b[0muniques\u001b[0m\u001b[1;33m\u001b[0m\u001b[1;33m\u001b[0m\u001b[0m\n",
      "\u001b[1;32mpandas\\_libs\\hashtable_class_helper.pxi\u001b[0m in \u001b[0;36mpandas._libs.hashtable.Int64HashTable.unique\u001b[1;34m()\u001b[0m\n",
      "\u001b[1;31mValueError\u001b[0m: Buffer has wrong number of dimensions (expected 1, got 2)"
     ]
    }
   ],
   "source": [
    "## Bin by five year span \n",
    "#alien_5y_df['datetime'] = [r.hour for r in alien_5y_df.datetime]\n",
    "#Adate_df= pd.DataFrame(alien_5y_df)\n",
    "\n",
    "#df_ages['age_bins'] = pd.cut(x=df_ages['age'], bins=[20, 29, 39, 49])\n",
    "#bins\n",
    "#bins = [1992 1-1,1997-1-1,2002-1-1, 2007-1-1,2012-1-1, 2014-12-31]\n",
    "import numpy as np\n",
    "bins = np.arange(1992,2017,4)\n",
    "# add custom labels \n",
    "labels = ['1992-1996', '1997-2001', '2002-2006', '2007-2011', '2012-2014']\n",
    "# add the bins to the dataframe\n",
    "Adate_df = pd.cut(x=alien_5y_df['date posted'],bins = [bins], labels = ['labels'])\n",
    "\n",
    "# Adate_df = pd.DateFrame[{\"Date Posted\": labels\n",
    "                          \n",
    "    \n",
    "# }]\n",
    "Adate_df.head()\n"
   ]
  },
  {
   "cell_type": "code",
   "execution_count": 41,
   "metadata": {},
   "outputs": [
    {
     "ename": "TypeError",
     "evalue": "'<' not supported between instances of 'int' and 'str'",
     "output_type": "error",
     "traceback": [
      "\u001b[1;31m---------------------------------------------------------------------------\u001b[0m",
      "\u001b[1;31mTypeError\u001b[0m                                 Traceback (most recent call last)",
      "\u001b[1;32m<ipython-input-41-1e1a569bd29e>\u001b[0m in \u001b[0;36m<module>\u001b[1;34m\u001b[0m\n\u001b[1;32m----> 1\u001b[1;33m \u001b[0malien_5y_df\u001b[0m\u001b[1;33m[\u001b[0m\u001b[1;34m\"bins\"\u001b[0m\u001b[1;33m]\u001b[0m \u001b[1;33m=\u001b[0m \u001b[0mpd\u001b[0m\u001b[1;33m.\u001b[0m\u001b[0mcut\u001b[0m\u001b[1;33m(\u001b[0m\u001b[0malien_5y_df\u001b[0m\u001b[1;33m[\u001b[0m\u001b[1;34m\"date posted\"\u001b[0m\u001b[1;33m]\u001b[0m\u001b[1;33m,\u001b[0m \u001b[0mbins\u001b[0m\u001b[1;33m,\u001b[0m \u001b[0mlabels\u001b[0m \u001b[1;33m=\u001b[0m \u001b[0mlabels\u001b[0m\u001b[1;33m)\u001b[0m\u001b[1;33m\u001b[0m\u001b[1;33m\u001b[0m\u001b[0m\n\u001b[0m\u001b[0;32m      2\u001b[0m \u001b[0malien_5y_df\u001b[0m\u001b[1;33m\u001b[0m\u001b[1;33m\u001b[0m\u001b[0m\n",
      "\u001b[1;32m~\\.conda\\envs\\PythonData\\lib\\site-packages\\pandas\\core\\reshape\\tile.py\u001b[0m in \u001b[0;36mcut\u001b[1;34m(x, bins, right, labels, retbins, precision, include_lowest, duplicates)\u001b[0m\n\u001b[0;32m    263\u001b[0m         \u001b[0minclude_lowest\u001b[0m\u001b[1;33m=\u001b[0m\u001b[0minclude_lowest\u001b[0m\u001b[1;33m,\u001b[0m\u001b[1;33m\u001b[0m\u001b[1;33m\u001b[0m\u001b[0m\n\u001b[0;32m    264\u001b[0m         \u001b[0mdtype\u001b[0m\u001b[1;33m=\u001b[0m\u001b[0mdtype\u001b[0m\u001b[1;33m,\u001b[0m\u001b[1;33m\u001b[0m\u001b[1;33m\u001b[0m\u001b[0m\n\u001b[1;32m--> 265\u001b[1;33m         \u001b[0mduplicates\u001b[0m\u001b[1;33m=\u001b[0m\u001b[0mduplicates\u001b[0m\u001b[1;33m,\u001b[0m\u001b[1;33m\u001b[0m\u001b[1;33m\u001b[0m\u001b[0m\n\u001b[0m\u001b[0;32m    266\u001b[0m     )\n\u001b[0;32m    267\u001b[0m \u001b[1;33m\u001b[0m\u001b[0m\n",
      "\u001b[1;32m~\\.conda\\envs\\PythonData\\lib\\site-packages\\pandas\\core\\reshape\\tile.py\u001b[0m in \u001b[0;36m_bins_to_cuts\u001b[1;34m(x, bins, right, labels, precision, include_lowest, dtype, duplicates)\u001b[0m\n\u001b[0;32m    386\u001b[0m \u001b[1;33m\u001b[0m\u001b[0m\n\u001b[0;32m    387\u001b[0m     \u001b[0mside\u001b[0m \u001b[1;33m=\u001b[0m \u001b[1;34m\"left\"\u001b[0m \u001b[1;32mif\u001b[0m \u001b[0mright\u001b[0m \u001b[1;32melse\u001b[0m \u001b[1;34m\"right\"\u001b[0m\u001b[1;33m\u001b[0m\u001b[1;33m\u001b[0m\u001b[0m\n\u001b[1;32m--> 388\u001b[1;33m     \u001b[0mids\u001b[0m \u001b[1;33m=\u001b[0m \u001b[0mensure_int64\u001b[0m\u001b[1;33m(\u001b[0m\u001b[0mbins\u001b[0m\u001b[1;33m.\u001b[0m\u001b[0msearchsorted\u001b[0m\u001b[1;33m(\u001b[0m\u001b[0mx\u001b[0m\u001b[1;33m,\u001b[0m \u001b[0mside\u001b[0m\u001b[1;33m=\u001b[0m\u001b[0mside\u001b[0m\u001b[1;33m)\u001b[0m\u001b[1;33m)\u001b[0m\u001b[1;33m\u001b[0m\u001b[1;33m\u001b[0m\u001b[0m\n\u001b[0m\u001b[0;32m    389\u001b[0m \u001b[1;33m\u001b[0m\u001b[0m\n\u001b[0;32m    390\u001b[0m     \u001b[1;32mif\u001b[0m \u001b[0minclude_lowest\u001b[0m\u001b[1;33m:\u001b[0m\u001b[1;33m\u001b[0m\u001b[1;33m\u001b[0m\u001b[0m\n",
      "\u001b[1;31mTypeError\u001b[0m: '<' not supported between instances of 'int' and 'str'"
     ]
    }
   ],
   "source": [
    "alien_5y_df[\"bins\"] = pd.cut(alien_5y_df[\"date posted\"], bins, labels = labels)\n",
    "alien_5y_df"
   ]
  },
  {
   "cell_type": "code",
   "execution_count": 42,
   "metadata": {},
   "outputs": [
    {
     "ename": "TypeError",
     "evalue": "'Series' object is not callable",
     "output_type": "error",
     "traceback": [
      "\u001b[1;31m---------------------------------------------------------------------------\u001b[0m",
      "\u001b[1;31mTypeError\u001b[0m                                 Traceback (most recent call last)",
      "\u001b[1;32m<ipython-input-42-a52cd7512822>\u001b[0m in \u001b[0;36m<module>\u001b[1;34m\u001b[0m\n\u001b[0;32m      8\u001b[0m                '1993-01-01 02:00:00'],\n\u001b[0;32m      9\u001b[0m               \u001b[1;31m#dtype='datetime64[ns]', freq='H')\u001b[0m\u001b[1;33m\u001b[0m\u001b[1;33m\u001b[0m\u001b[1;33m\u001b[0m\u001b[0m\n\u001b[1;32m---> 10\u001b[1;33m               dtype='datetime64[ns]', freq='Y')\n\u001b[0m",
      "\u001b[1;31mTypeError\u001b[0m: 'Series' object is not callable"
     ]
    }
   ],
   "source": [
    "#bins = pd.date_range('1993-01-01', periods=5, freq='H')\n",
    "#dti = pd.date_range('1993-01-01', periods=5, freq='H')\n",
    "\n",
    "idx = pd.date_range('2018-01-01', periods=4, freq='Y')\n",
    "\n",
    "DatetimeIndex = pd.Series(range(len(idx)), index=idx)\n",
    "DatetimeIndex(['1993-01-01 00:00:00', '1993-01-01 01:00:00',\n",
    "               '1993-01-01 02:00:00'],\n",
    "              #dtype='datetime64[ns]', freq='H')\n",
    "              dtype='datetime64[ns]', freq='Y')\n"
   ]
  },
  {
   "cell_type": "code",
   "execution_count": 43,
   "metadata": {},
   "outputs": [
    {
     "data": {
      "text/plain": [
       "array(['9/9/2013', '9/9/2004', '9/9/2003', '9/6/2002', '9/4/2003',\n",
       "       '9/30/2013', '9/29/2004', '9/29/2002', '9/28/2003', '9/28/2002',\n",
       "       '9/26/1998', '9/24/2012', '9/24/2003', '9/21/2000', '9/2/2005',\n",
       "       '9/19/2002', '9/17/2003', '9/17/2000', '9/15/2005', '9/13/2002',\n",
       "       '9/12/2003', '9/12/1999', '9/1/2004', '8/7/2011', '8/7/2007',\n",
       "       '8/5/2012', '8/5/2009', '8/5/2001', '8/5/2000', '8/4/2003',\n",
       "       '8/30/2013', '8/30/2010', '8/30/1999', '8/28/2009', '8/28/2003',\n",
       "       '8/28/2002', '8/27/2009', '8/25/2000', '8/24/2010', '8/24/2004',\n",
       "       '8/21/2011', '8/20/2001', '8/19/2012', '8/19/2000', '8/16/2002',\n",
       "       '8/14/2007', '8/12/2008', '8/12/2001', '8/11/2004', '8/10/1999',\n",
       "       '8/1/2003', '7/8/2004', '7/6/2011', '7/6/2010', '7/5/2013',\n",
       "       '7/5/2008', '7/5/2005', '7/5/1999', '7/4/2012', '7/4/2011',\n",
       "       '7/30/2002', '7/3/2013', '7/29/2010', '7/29/2000', '7/28/2010',\n",
       "       '7/26/2002', '7/25/2004', '7/23/2003', '7/23/2000', '7/22/2013',\n",
       "       '7/19/2010', '7/17/2011', '7/16/2006', '7/16/2003', '7/15/2005',\n",
       "       '7/14/2013', '7/14/1999', '7/13/2005', '7/11/2000', '7/10/2010',\n",
       "       '7/1/2002', '6/9/2009', '6/8/2012', '6/6/2000', '6/5/2012',\n",
       "       '6/4/2004', '6/3/2011', '6/3/2010', '6/3/2003', '6/27/2011',\n",
       "       '6/23/2010', '6/23/2004', '6/23/1999', '6/21/2000', '6/20/2012',\n",
       "       '6/20/2011', '6/20/2005', '6/2/2013', '6/2/1998', '6/18/2004',\n",
       "       '6/18/2003', '6/18/1998', '6/14/2012', '6/13/2002', '6/12/2011',\n",
       "       '6/12/2008', '6/12/2007', '6/12/2002', '6/10/2010', '6/10/2003',\n",
       "       '5/9/2003', '5/8/2014', '5/4/2004', '5/3/2000', '5/29/2012',\n",
       "       '5/29/2011', '5/28/2005', '5/27/2003', '5/24/2005', '5/24/1999',\n",
       "       '5/23/1999', '5/2/2014', '5/2/2011', '5/2/2003', '5/15/2013',\n",
       "       '5/15/2006', '5/14/2002', '5/13/2012', '5/13/2003', '5/12/2011',\n",
       "       '5/12/2010', '5/12/2009', '5/11/2005', '5/11/2000', '5/10/2004',\n",
       "       '4/9/2004', '4/8/2002', '4/4/2014', '4/30/2004', '4/3/2011',\n",
       "       '4/28/2001', '4/27/2007', '4/27/2004', '4/27/2003', '4/26/2000',\n",
       "       '4/26/1999', '4/25/2002', '4/24/2014', '4/22/2003', '4/2/1999',\n",
       "       '4/18/2014', '4/18/2012', '4/17/2008', '4/16/2005', '4/15/2000',\n",
       "       '4/14/2009', '4/13/2010', '4/12/2013', '4/11/2014', '4/1/2001',\n",
       "       '4/1/2000', '3/9/2004', '3/8/2007', '3/7/2000', '3/7/1998',\n",
       "       '3/6/2001', '3/4/2008', '3/4/2003', '3/31/2008', '3/3/2013',\n",
       "       '3/29/2004', '3/28/2004', '3/27/2014', '3/25/2002', '3/23/2011',\n",
       "       '3/23/2004', '3/21/2014', '3/21/2003', '3/2/2004', '3/19/2009',\n",
       "       '3/19/2002', '3/18/2014', '3/17/2004', '3/16/2012', '3/16/2001',\n",
       "       '3/16/2000', '3/13/2012', '3/11/2006', '3/11/2003', '3/10/2011',\n",
       "       '3/1/2004', '2/8/2011', '2/8/2005', '2/7/2014', '2/5/2003',\n",
       "       '2/4/2013', '2/3/2012', '2/28/2013', '2/27/2014', '2/27/2000',\n",
       "       '2/25/2003', '2/24/2007', '2/24/2005', '2/24/2001', '2/23/2011',\n",
       "       '2/23/2000', '2/22/2005', '2/22/2002', '2/21/2014', '2/18/2013',\n",
       "       '2/18/2011', '2/18/2001', '2/16/2000', '2/16/1999', '2/14/2014',\n",
       "       '2/14/2010', '2/14/2008', '2/14/2006', '2/12/2004', '2/11/2003',\n",
       "       '2/10/2012', '2/1/2007', '12/9/2003', '12/9/2000', '12/7/2006',\n",
       "       '12/5/2013', '12/5/2001', '12/3/2004', '12/23/2013', '12/23/2002',\n",
       "       '12/21/2012', '12/20/2012', '12/20/2000', '12/2/2013', '12/2/2000',\n",
       "       '12/19/2003', '12/17/2011', '12/16/2005', '12/16/1999',\n",
       "       '12/14/2006', '12/14/2004', '12/12/2013', '12/12/2011',\n",
       "       '12/12/2009', '11/9/2004', '11/9/2002', '11/9/1999', '11/8/2005',\n",
       "       '11/8/2003', '11/4/2012', '11/4/2002', '11/30/1999', '11/3/2005',\n",
       "       '11/28/2007', '11/26/2003', '11/23/1999', '11/21/2010',\n",
       "       '11/21/1998', '11/20/2013', '11/20/2002', '11/20/2001',\n",
       "       '11/2/2004', '11/2/1999', '11/19/2012', '11/19/1998', '11/17/1999',\n",
       "       '11/16/2002', '11/11/2013', '11/11/2003', '11/1/1998', '10/8/2007',\n",
       "       '10/7/2003', '10/31/2008', '10/31/2003', '10/30/2012',\n",
       "       '10/30/2006', '10/3/2013', '10/28/2002', '10/27/2004',\n",
       "       '10/25/2011', '10/23/2013', '10/20/2005', '10/2/1999',\n",
       "       '10/19/2011', '10/19/1999', '10/17/2003', '10/15/2003',\n",
       "       '10/15/2002', '10/14/2013', '10/12/2001', '10/11/2005',\n",
       "       '10/10/2011', '1/7/2000', '1/5/2011', '1/31/2011', '1/31/2004',\n",
       "       '1/30/2014', '1/3/2001', '1/29/2002', '1/28/1999', '1/27/2005',\n",
       "       '1/26/2003', '1/24/2014', '1/24/2012', '1/22/2004', '1/22/2000',\n",
       "       '1/21/2008', '1/20/2003', '1/19/2005', '1/17/2004', '1/16/2014',\n",
       "       '1/12/2012', '1/11/2005', '1/11/2002', '1/10/2014', '1/10/2009'],\n",
       "      dtype=object)"
      ]
     },
     "execution_count": 43,
     "metadata": {},
     "output_type": "execute_result"
    }
   ],
   "source": [
    "alien_5y_df[\"date posted\"].unique()"
   ]
  },
  {
   "cell_type": "code",
   "execution_count": 44,
   "metadata": {},
   "outputs": [
    {
     "ename": "TypeError",
     "evalue": "'method' object is not subscriptable",
     "output_type": "error",
     "traceback": [
      "\u001b[1;31m---------------------------------------------------------------------------\u001b[0m",
      "\u001b[1;31mTypeError\u001b[0m                                 Traceback (most recent call last)",
      "\u001b[1;32m<ipython-input-44-2c41ed8941cb>\u001b[0m in \u001b[0;36m<module>\u001b[1;34m\u001b[0m\n\u001b[0;32m      1\u001b[0m \u001b[1;31m# sum sigthings by bin for total number of sigthings/5y set for entire set\u001b[0m\u001b[1;33m\u001b[0m\u001b[1;33m\u001b[0m\u001b[1;33m\u001b[0m\u001b[0m\n\u001b[0;32m      2\u001b[0m \u001b[1;33m\u001b[0m\u001b[0m\n\u001b[1;32m----> 3\u001b[1;33m \u001b[0malien_5y_df\u001b[0m\u001b[1;33m.\u001b[0m\u001b[0mgroupby\u001b[0m\u001b[1;33m[\u001b[0m\u001b[1;34m'date posted'\u001b[0m\u001b[1;33m]\u001b[0m\u001b[1;33m\u001b[0m\u001b[1;33m\u001b[0m\u001b[0m\n\u001b[0m",
      "\u001b[1;31mTypeError\u001b[0m: 'method' object is not subscriptable"
     ]
    }
   ],
   "source": [
    "# sum sigthings by bin for total number of sigthings/5y set for entire set \n",
    "\n",
    "alien_5y_df.groupby['date posted']"
   ]
  },
  {
   "cell_type": "code",
   "execution_count": 20,
   "metadata": {},
   "outputs": [
    {
     "ename": "NameError",
     "evalue": "name 'sigtings' is not defined",
     "output_type": "error",
     "traceback": [
      "\u001b[1;31m---------------------------------------------------------------------------\u001b[0m",
      "\u001b[1;31mNameError\u001b[0m                                 Traceback (most recent call last)",
      "\u001b[1;32m<ipython-input-20-1a2f816655fd>\u001b[0m in \u001b[0;36m<module>\u001b[1;34m\u001b[0m\n\u001b[0;32m      1\u001b[0m \u001b[0myear\u001b[0m \u001b[1;33m=\u001b[0m\u001b[1;33m[\u001b[0m\u001b[1;34m'1992-1996'\u001b[0m\u001b[1;33m,\u001b[0m \u001b[1;34m'1997-2001'\u001b[0m\u001b[1;33m,\u001b[0m \u001b[1;34m'2002-2006'\u001b[0m\u001b[1;33m,\u001b[0m \u001b[1;34m'2007-2011'\u001b[0m\u001b[1;33m,\u001b[0m \u001b[1;34m'2012-2014'\u001b[0m\u001b[1;33m]\u001b[0m\u001b[1;33m\u001b[0m\u001b[1;33m\u001b[0m\u001b[0m\n\u001b[0;32m      2\u001b[0m \u001b[1;33m\u001b[0m\u001b[0m\n\u001b[1;32m----> 3\u001b[1;33m \u001b[0mplt\u001b[0m\u001b[1;33m.\u001b[0m\u001b[0mplot\u001b[0m\u001b[1;33m(\u001b[0m\u001b[0myear\u001b[0m\u001b[1;33m,\u001b[0m\u001b[0msigtings\u001b[0m\u001b[1;33m)\u001b[0m\u001b[1;33m\u001b[0m\u001b[1;33m\u001b[0m\u001b[0m\n\u001b[0m\u001b[0;32m      4\u001b[0m \u001b[0mplt\u001b[0m\u001b[1;33m.\u001b[0m\u001b[0mtitle\u001b[0m\u001b[1;33m(\u001b[0m\u001b[1;34m'Sigtings by 5 Year'\u001b[0m\u001b[1;33m)\u001b[0m\u001b[1;33m\u001b[0m\u001b[1;33m\u001b[0m\u001b[0m\n\u001b[0;32m      5\u001b[0m \u001b[0mplt\u001b[0m\u001b[1;33m.\u001b[0m\u001b[0mxlabel\u001b[0m\u001b[1;33m(\u001b[0m\u001b[1;34m'Years'\u001b[0m\u001b[1;33m)\u001b[0m\u001b[1;33m\u001b[0m\u001b[1;33m\u001b[0m\u001b[0m\n",
      "\u001b[1;31mNameError\u001b[0m: name 'sigtings' is not defined"
     ]
    }
   ],
   "source": [
    "#plot by bion year \n",
    "year =['1992-1996', '1997-2001', '2002-2006', '2007-2011', '2012-2014']\n",
    "\n",
    "plt.plot(year,sightings)\n",
    "plt.title('Sightings by 4 Year')\n",
    "plt.xlabel('Years')\n",
    "plt.ylabel('Number of Sightings')\n",
    "plt.show()"
   ]
  },
  {
   "cell_type": "code",
   "execution_count": null,
   "metadata": {},
   "outputs": [],
   "source": []
  }
 ],
 "metadata": {
  "kernelspec": {
   "display_name": "Python 3",
   "language": "python",
   "name": "python3"
  },
  "language_info": {
   "codemirror_mode": {
    "name": "ipython",
    "version": 3
   },
   "file_extension": ".py",
   "mimetype": "text/x-python",
   "name": "python",
   "nbconvert_exporter": "python",
   "pygments_lexer": "ipython3",
   "version": "3.6.10"
  }
 },
 "nbformat": 4,
 "nbformat_minor": 4
}
