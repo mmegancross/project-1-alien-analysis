{
 "cells": [
  {
   "cell_type": "markdown",
   "metadata": {},
   "source": [
    "Analysis \n",
    "\n",
    "Where is the highest frequency of UFO sightings? \n",
    "\n",
    "With a data set of over 59,500 data points the western regions (Washington, Oregon, California, Nevada, Utah, Arizona, New Mexico, Colorado, Wyoming, Idaho, Montana, Alaska and Hawaii ) had the highest number of sightings (20,161). On a state by state level, Washington led sightings per 100 people with nearby Montana and neighboring Oregon being second and third respectively. Washington, DC had the lowest sightings per capita while Mississippi, Louisiana and Georgia rounded out the bottom three states. There is a high correlation between population density and the numbers of sightings with an R-squared 0.64.\n",
    "\n",
    "Which shape is most frequently sighted? \n",
    "\n",
    "The data set was cleaned and scrubbed from the original source, NUFORC (National UFO Reporting Center), who sorted UFO shapes into 25 general shape categories such as circle, fireball, cylinder, rectangle, etc. Overwhelmingly, the most cited shape was “light” which could also be applicable to cited shapes and “unknown”. Triangle, circle  and fireball were the top documented stable shapes. These three, along with those classified as “unknown” and \"changing\",are the only shapes with over 4,000 sightings. In 1992, triangle was the most common sighting (21.68%). As time progressed, the sightings of triangles leveled out to an average of 9% of sightings per year for the last six years of data. Conversely, “circle” and “fireball” shapes showed an increase from 7.96% and 1.76% in 1993 to 12.32% and 9.11% in 2014, respectfully. Circle, fireball and sphere combined represented an average of 33.61% of sightings over time. It is of note that In 1998 and 2012 there was a spike in fireball shapes, with the number of sightings dropping significantly the following year.   \n",
    "\n",
    "On a regional level, “light” is attributed to over 20% of the data points in all four represented regions over time (North-East, South, MidWest and West). Over all regions and time, “other” attributed on average 10.37% of sightings.\n",
    " \n",
    "Is there a relationship between the duration of a sighting and shape? \n",
    "\n",
    "The shape category of “changing” not only is the most frequently cited but also consistently that longest in duration be a large amount, so it was removed as an outlier, as were \"changed\" and \"unknown\". This designation is attributed to a few very long, outlying time intervals (eg 20 years) and is reflected in the graph. The IQR for the duration of sightings is 576 seconds with 1,455 and -183 seconds being the upper and lower ranges. Of the defined shapes, the majority have an average sighting time of 2-3 minutes, with notably longer median durations for circles (452.5 seconds),  cones (300 seconds) and hexagon (240 seconds). Over time the duration of sightings increased gradually with 2012-13 showing a marked increase in duraton.\n",
    "\n",
    "Some of the sighting clusters are of note, such as Horry County, South Carolina. Horry, which includes Myrtle Beach, had an initial spike in sightings in 2013. This garnered a fair amount of coverage with major news outlets picking up the story of Myrtle Beach being an alien hotspot. Anecdotally there have been news stories beyond the range of our data set and more recently (2015, 2018).  \n",
    "\n",
    "Are UFO sightings correlated with time of day or week?\n",
    "\n",
    "Over the course of the data, Saturday was the day of the week reporting the most sightings with over 10,000 total sightings. \t\n",
    "Is there a correlation between age, sex and  employmentd by armed forces?\n",
    "\n",
    "Overall, the correlations to age, sex and emplyment in the armed forces were fairly weak.  Please see graphs. \n",
    "\n",
    "Limitations\n",
    "\n",
    "From the onset, it was clear that by nature this data set had limitations. The data relies upon reported UFO sightings via an online form from a fairly obscure organization. This inherently has a degree of faith,commitment, and resources baked in as not all would take the time or have the ability to seek out this method of self reporting. \n",
    "\n",
    "The initial data set was gathered from Kaggle and originated from NUFORC . For geolocation data and county level Google API was used as well as US census data (2010). The data was cleaned, scrubbed and joined by state. During the data wrangling process unexpected artifacts, such as misplaced tick marks and misnamed country level data, presented themselves. One of the limitations of this data set is the nature that time is measured as it was presented, with all time options being binned blocks of time. Initially unemployment was to be mapped against sightings as a proxy for income, however due to lack of a correlation this was dropped. This data set by nature is a bit nebulous and unruly. With all of the data being self reported, there is an inherent propensity to believe extraterrestrial life and commitment to reporting the sightings.  Other external factors such as political party, income, educational level  and socioeconomic factors most likely influence this data. Saturday having the most sightings may be reflective of more people out at night and/or alcohol consumption. Additionally, access and rise of the internet contributed to the frequency of self reporting sightings. \n",
    "\n",
    "\n",
    "\n",
    "\n",
    "\n",
    "\n"
   ]
  }
 ],
 "metadata": {
  "kernelspec": {
   "display_name": "Python 3",
   "language": "python",
   "name": "python3"
  },
  "language_info": {
   "codemirror_mode": {
    "name": "ipython",
    "version": 3
   },
   "file_extension": ".py",
   "mimetype": "text/x-python",
   "name": "python",
   "nbconvert_exporter": "python",
   "pygments_lexer": "ipython3",
   "version": "3.6.10"
  }
 },
 "nbformat": 4,
 "nbformat_minor": 4
}
