{
 "cells": [
  {
   "cell_type": "code",
   "execution_count": 22,
   "metadata": {},
   "outputs": [],
   "source": [
    "import matplotlib.pyplot as plt\n",
    "import requests\n",
    "from scipy import stats\n",
    "import descartes\n",
    "import pandas as pd\n",
    "import geopandas as gpd\n",
    "from shapely.geometry import Point, Polygon\n",
    "import contextily as ctx\n",
    "\n",
    "%matplotlib inline\n"
   ]
  },
  {
   "cell_type": "code",
   "execution_count": 65,
   "metadata": {},
   "outputs": [],
   "source": [
    "#Read in shape file\n",
    "ufo_map = gpd.read_file('cb_2018_us_nation_5m/cb_2018_us_nation_5m.shp')"
   ]
  },
  {
   "cell_type": "code",
   "execution_count": 66,
   "metadata": {},
   "outputs": [
    {
     "data": {
      "text/plain": [
       "<matplotlib.axes._subplots.AxesSubplot at 0x1a4da3a048>"
      ]
     },
     "execution_count": 66,
     "metadata": {},
     "output_type": "execute_result"
    },
    {
     "data": {
      "image/png": "[encoded data removed]",
      "text/plain": [
       "<Figure size 1080x1080 with 1 Axes>"
      ]
     },
     "metadata": {
      "needs_background": "light"
     },
     "output_type": "display_data"
    }
   ],
   "source": [
    "fig,ax = plt.subplots(figsize = (15,15))\n",
    "ufo_map.plot(ax = ax)\n",
    "\n",
    "#How to add basemap layer? \n",
    "#ax = alien_df.plot(figsize=(10, 10), alpha=0.5, edgecolor='k')\n",
    "#ctx.add_basemap(ax)"
   ]
  },
  {
   "cell_type": "code",
   "execution_count": 58,
   "metadata": {},
   "outputs": [
    {
     "name": "stderr",
     "output_type": "stream",
     "text": [
      "/Users/mecross/opt/anaconda3/envs/PythonData/lib/python3.6/site-packages/IPython/core/interactiveshell.py:3072: DtypeWarning: Columns (6) have mixed types.Specify dtype option on import or set low_memory=False.\n",
      "  interactivity=interactivity, compiler=compiler, result=result)\n"
     ]
    }
   ],
   "source": [
    "#Read in alien data and add basemap layer \n",
    "\n",
    "alien_df = pd.read_csv('../project-1-alien-analysis/alien_region.csv')\n",
    "crs = {'init': 'epsg:4326'}\n"
   ]
  },
  {
   "cell_type": "code",
   "execution_count": 67,
   "metadata": {},
   "outputs": [
    {
     "data": {
      "text/plain": [
       "[<shapely.geometry.point.Point at 0x1a328777b8>,\n",
       " <shapely.geometry.point.Point at 0x1a32877400>,\n",
       " <shapely.geometry.point.Point at 0x1a32877e48>]"
      ]
     },
     "execution_count": 67,
     "metadata": {},
     "output_type": "execute_result"
    }
   ],
   "source": [
    "#Create points for latitude and longitude \n",
    "geometry = [Point(xy) for xy in zip(alien_df[\"longitude \"], alien_df[\"latitude\"])]\n",
    "geometry[:3]"
   ]
  },
  {
   "cell_type": "code",
   "execution_count": 60,
   "metadata": {},
   "outputs": [
    {
     "data": {
      "text/html": [
       "<div>\n",
       "<style scoped>\n",
       "    .dataframe tbody tr th:only-of-type {\n",
       "        vertical-align: middle;\n",
       "    }\n",
       "\n",
       "    .dataframe tbody tr th {\n",
       "        vertical-align: top;\n",
       "    }\n",
       "\n",
       "    .dataframe thead th {\n",
       "        text-align: right;\n",
       "    }\n",
       "</style>\n",
       "<table border=\"1\" class=\"dataframe\">\n",
       "  <thead>\n",
       "    <tr style=\"text-align: right;\">\n",
       "      <th></th>\n",
       "      <th>Unnamed: 0</th>\n",
       "      <th>datetime</th>\n",
       "      <th>city</th>\n",
       "      <th>state</th>\n",
       "      <th>country</th>\n",
       "      <th>shape</th>\n",
       "      <th>duration (seconds)</th>\n",
       "      <th>duration (hours/min)</th>\n",
       "      <th>comments</th>\n",
       "      <th>date posted</th>\n",
       "      <th>latitude</th>\n",
       "      <th>longitude</th>\n",
       "      <th>Month</th>\n",
       "      <th>Day</th>\n",
       "      <th>Time</th>\n",
       "      <th>Year</th>\n",
       "      <th>region</th>\n",
       "      <th>geometry</th>\n",
       "    </tr>\n",
       "  </thead>\n",
       "  <tbody>\n",
       "    <tr>\n",
       "      <th>0</th>\n",
       "      <td>0</td>\n",
       "      <td>10/10/1993 22:00</td>\n",
       "      <td>peoria</td>\n",
       "      <td>il</td>\n",
       "      <td>us</td>\n",
       "      <td>light</td>\n",
       "      <td>8</td>\n",
       "      <td>8 seconds</td>\n",
       "      <td>Light over Peoria&amp;#44 IL that moves slowly&amp;#44...</td>\n",
       "      <td>10/11/2005</td>\n",
       "      <td>40.693611</td>\n",
       "      <td>-89.588889</td>\n",
       "      <td>10</td>\n",
       "      <td>10</td>\n",
       "      <td>22:00</td>\n",
       "      <td>1993</td>\n",
       "      <td>Midwest</td>\n",
       "      <td>POINT (-89.58889 40.69361)</td>\n",
       "    </tr>\n",
       "    <tr>\n",
       "      <th>1</th>\n",
       "      <td>1</td>\n",
       "      <td>10/10/1998 13:15</td>\n",
       "      <td>elgin</td>\n",
       "      <td>il</td>\n",
       "      <td>us</td>\n",
       "      <td>cylinder</td>\n",
       "      <td>1800</td>\n",
       "      <td>30 +/- min</td>\n",
       "      <td>While looking up at sky I noticed a bright lig...</td>\n",
       "      <td>11/1/1998</td>\n",
       "      <td>42.037222</td>\n",
       "      <td>-88.281111</td>\n",
       "      <td>10</td>\n",
       "      <td>10</td>\n",
       "      <td>13:15</td>\n",
       "      <td>1998</td>\n",
       "      <td>Midwest</td>\n",
       "      <td>POINT (-88.28111 42.03722)</td>\n",
       "    </tr>\n",
       "    <tr>\n",
       "      <th>2</th>\n",
       "      <td>2</td>\n",
       "      <td>10/10/2004 15:00</td>\n",
       "      <td>rock island</td>\n",
       "      <td>il</td>\n",
       "      <td>us</td>\n",
       "      <td>sphere</td>\n",
       "      <td>3600</td>\n",
       "      <td>1 hour</td>\n",
       "      <td>The sky was clear  and the objects at times ap...</td>\n",
       "      <td>10/27/2004</td>\n",
       "      <td>41.509444</td>\n",
       "      <td>-90.578611</td>\n",
       "      <td>10</td>\n",
       "      <td>10</td>\n",
       "      <td>15:00</td>\n",
       "      <td>2004</td>\n",
       "      <td>Midwest</td>\n",
       "      <td>POINT (-90.57861 41.50944)</td>\n",
       "    </tr>\n",
       "    <tr>\n",
       "      <th>3</th>\n",
       "      <td>3</td>\n",
       "      <td>10/10/2010 20:45</td>\n",
       "      <td>sterling</td>\n",
       "      <td>il</td>\n",
       "      <td>us</td>\n",
       "      <td>cylinder</td>\n",
       "      <td>600</td>\n",
       "      <td>10min</td>\n",
       "      <td>It had rows of white lights with red lights pu...</td>\n",
       "      <td>11/21/2010</td>\n",
       "      <td>41.788611</td>\n",
       "      <td>-89.696111</td>\n",
       "      <td>10</td>\n",
       "      <td>10</td>\n",
       "      <td>20:45</td>\n",
       "      <td>2010</td>\n",
       "      <td>Midwest</td>\n",
       "      <td>POINT (-89.69611 41.78861)</td>\n",
       "    </tr>\n",
       "    <tr>\n",
       "      <th>4</th>\n",
       "      <td>4</td>\n",
       "      <td>10/10/2012 20:30</td>\n",
       "      <td>marion</td>\n",
       "      <td>il</td>\n",
       "      <td>us</td>\n",
       "      <td>light</td>\n",
       "      <td>240</td>\n",
       "      <td>2 to 4 minutes</td>\n",
       "      <td>I was leaving my friend&amp;#39s house to go home....</td>\n",
       "      <td>10/30/2012</td>\n",
       "      <td>37.730556</td>\n",
       "      <td>-88.933056</td>\n",
       "      <td>10</td>\n",
       "      <td>10</td>\n",
       "      <td>20:30</td>\n",
       "      <td>2012</td>\n",
       "      <td>Midwest</td>\n",
       "      <td>POINT (-88.93306 37.73056)</td>\n",
       "    </tr>\n",
       "  </tbody>\n",
       "</table>\n",
       "</div>"
      ],
      "text/plain": [
       "   Unnamed: 0          datetime         city state country     shape  \\\n",
       "0           0  10/10/1993 22:00       peoria    il      us     light   \n",
       "1           1  10/10/1998 13:15        elgin    il      us  cylinder   \n",
       "2           2  10/10/2004 15:00  rock island    il      us    sphere   \n",
       "3           3  10/10/2010 20:45     sterling    il      us  cylinder   \n",
       "4           4  10/10/2012 20:30       marion    il      us     light   \n",
       "\n",
       "  duration (seconds) duration (hours/min)  \\\n",
       "0                  8            8 seconds   \n",
       "1               1800           30 +/- min   \n",
       "2               3600               1 hour   \n",
       "3                600                10min   \n",
       "4                240       2 to 4 minutes   \n",
       "\n",
       "                                            comments date posted   latitude  \\\n",
       "0  Light over Peoria&#44 IL that moves slowly&#44...  10/11/2005  40.693611   \n",
       "1  While looking up at sky I noticed a bright lig...   11/1/1998  42.037222   \n",
       "2  The sky was clear  and the objects at times ap...  10/27/2004  41.509444   \n",
       "3  It had rows of white lights with red lights pu...  11/21/2010  41.788611   \n",
       "4  I was leaving my friend&#39s house to go home....  10/30/2012  37.730556   \n",
       "\n",
       "   longitude   Month  Day   Time  Year   region                    geometry  \n",
       "0  -89.588889     10   10  22:00  1993  Midwest  POINT (-89.58889 40.69361)  \n",
       "1  -88.281111     10   10  13:15  1998  Midwest  POINT (-88.28111 42.03722)  \n",
       "2  -90.578611     10   10  15:00  2004  Midwest  POINT (-90.57861 41.50944)  \n",
       "3  -89.696111     10   10  20:45  2010  Midwest  POINT (-89.69611 41.78861)  \n",
       "4  -88.933056     10   10  20:30  2012  Midwest  POINT (-88.93306 37.73056)  "
      ]
     },
     "execution_count": 60,
     "metadata": {},
     "output_type": "execute_result"
    }
   ],
   "source": [
    "#Use points to create GeoDataFrame \n",
    "geo_alien_df = gpd.GeoDataFrame(alien_df, \n",
    "                              crs = crs, #specifying coordinate reference system\n",
    "                              geometry = geometry) #specify geometry list we've created\n",
    "\n",
    "geo_alien_df.head()"
   ]
  },
  {
   "cell_type": "code",
   "execution_count": 73,
   "metadata": {},
   "outputs": [],
   "source": [
    "#Establish bounds to zoom in on map \n",
    "ufo_bounds = ufo_map.geometry.total_bounds\n",
    "ufo_bounds\n",
    "\n",
    "#Create x and y mins and max to establish bounds\n",
    "xmin, ymin, xmax, ymax = ufo_bounds"
   ]
  },
  {
   "cell_type": "code",
   "execution_count": 72,
   "metadata": {},
   "outputs": [
    {
     "data": {
      "image/png": "[encoded data removed]",
      "text/plain": [
       "<Figure size 1440x720 with 1 Axes>"
      ]
     },
     "metadata": {
      "needs_background": "light"
     },
     "output_type": "display_data"
    }
   ],
   "source": [
    "#Map of every datapoint for all time\n",
    "\n",
    "fig,ax = plt.subplots(figsize = (20,10))\n",
    "ufo_map.plot(color='black', ax = ax, alpha=0.5)\n",
    "geo_alien_df.plot(ax = ax, alpha = 0.2, color =\"green\")\n",
    "geo_alien_df.plot(ax = ax, markersize = 20, color = \"green\", marker = \"o\", label = \"UFO Sighting\")\n",
    "plt.legend(prop={'size': 15})\n",
    "\n"
   ]
  },
  {
   "cell_type": "code",
   "execution_count": 78,
   "metadata": {},
   "outputs": [
    {
     "data": {
      "image/png": "[encoded data removed]",
      "text/plain": [
       "<Figure size 720x432 with 1 Axes>"
      ]
     },
     "metadata": {
      "needs_background": "light"
     },
     "output_type": "display_data"
    }
   ],
   "source": [
    "#Zoom into map \n",
    "\n",
    "#use the boundary set earlier to set the min and max values for the plot\n",
    "ufo_map.total_bounds\n",
    "\n",
    "# Plot the data with a modified spatial extent\n",
    "fig, ax = plt.subplots(figsize = (10,6))\n",
    "xlim = ([ufo_map.total_bounds[0],  ufo_map.total_bounds[2]])\n",
    "ylim = ([ufo_map.total_bounds[1],  ufo_map.total_bounds[3]])\n",
    "\n",
    "ax.set_xlim(xlim)\n",
    "ax.set_ylim(ylim)\n",
    "\n",
    "#Plot map details \n",
    "\n",
    "ufo_map.plot(color='black', alpha = 0.5, ax = ax)\n",
    "geo_alien_df.plot(color='green', ax=ax, alpha=0.1)\n",
    "\n",
    "#Set title, legend, and axis\n",
    "ax.set(title='UFO Sightings in the US since 1993')\n",
    "geo_alien_df.plot(ax = ax, markersize = 5, color = \"green\", marker = \"o\", label = \"UFO Sighting\")\n",
    "ax.set_axis_off()\n",
    "plt.show()\n",
    "\n"
   ]
  },
  {
   "cell_type": "code",
   "execution_count": 80,
   "metadata": {},
   "outputs": [
    {
     "data": {
      "image/png": "[encoded data removed]",
      "text/plain": [
       "<Figure size 720x432 with 1 Axes>"
      ]
     },
     "metadata": {
      "needs_background": "light"
     },
     "output_type": "display_data"
    }
   ],
   "source": [
    "#Zoom into map \n",
    "\n",
    "#use the boundary set earlier to set the min and max values for the plot\n",
    "ufo_map.total_bounds\n",
    "\n",
    "# Plot the data with a modified spatial extent\n",
    "fig, ax = plt.subplots(figsize = (10,6))\n",
    "xlim = ([ufo_map.total_bounds[0],  ufo_map.total_bounds[2]])\n",
    "ylim = ([ufo_map.total_bounds[1],  ufo_map.total_bounds[3]])\n",
    "\n",
    "ax.set_xlim(xlim)\n",
    "ax.set_ylim(ylim)\n",
    "\n",
    "#Plot map details \n",
    "\n",
    "ufo_map.plot(color='black', alpha = 0.5, ax = ax)\n",
    "geo_alien_df[geo_alien_df['Year'] == 2013].plot(ax = ax, alpha = 0.4, color =\"green\")\n",
    "\n",
    "#Set title, legend, and axis\n",
    "ax.set(title='UFO Sightings in the US in 2013')\n",
    "geo_alien_df.plot(ax = ax, markersize = 5, color = \"green\", marker = \"o\", label = \"UFO Sighting\")\n",
    "ax.set_axis_off()\n",
    "plt.show()"
   ]
  },
  {
   "cell_type": "code",
   "execution_count": 63,
   "metadata": {},
   "outputs": [
    {
     "data": {
      "text/plain": [
       "(-197.12167434999995, 197.72133134999996, 15.241829399999999, 74.0245006)"
      ]
     },
     "execution_count": 63,
     "metadata": {},
     "output_type": "execute_result"
    },
    {
     "data": {
      "image/png": "[encoded data removed]",
      "text/plain": [
       "<Figure size 1080x1080 with 1 Axes>"
      ]
     },
     "metadata": {
      "needs_background": "light"
     },
     "output_type": "display_data"
    }
   ],
   "source": [
    "#Map of sightings in 2013 \n",
    "\n",
    "fig,ax = plt.subplots(figsize = (15,15))\n",
    "ufo_map.plot(color='black', ax = ax, alpha=0.5)\n",
    "geo_alien_df[geo_alien_df['Year'] == 2013].plot(ax = ax, alpha = 0.4, color =\"green\")\n",
    "geo_alien_df[geo_alien_df['Year'] == 2013].plot(ax = ax, markersize = 20, color = \"green\", marker = \"o\", label = \"UFO Sighting\")\n",
    "plt.legend(prop={'size': 15})\n",
    "\n",
    "ax.set(title='UFO Sightings in the US in 2013')\n",
    "ax.set_axis_off()\n",
    "plt.axis('equal')"
   ]
  },
  {
   "cell_type": "code",
   "execution_count": 69,
   "metadata": {},
   "outputs": [
    {
     "data": {
      "text/plain": [
       "<matplotlib.legend.Legend at 0x1a32886588>"
      ]
     },
     "execution_count": 69,
     "metadata": {},
     "output_type": "execute_result"
    },
    {
     "data": {
      "image/png": "[encoded data removed]",
      "text/plain": [
       "<Figure size 1080x1080 with 1 Axes>"
      ]
     },
     "metadata": {
      "needs_background": "light"
     },
     "output_type": "display_data"
    }
   ],
   "source": [
    "#Map of Western region \n",
    "#loc and make new df by West \n",
    "fig,ax = plt.subplots(figsize = (15,15))\n",
    "geo_alien_df[geo_alien_df['region'] == 'West'].plot(ax = ax, alpha = 0.4, color =\"green\")\n",
    "geo_alien_df[geo_alien_df['region'] == 'West'].plot(ax = ax, markersize = 20, color = \"green\", marker = \"o\", label = \"UFO Sighting\")\n",
    "ufo_map.plot(color='black', ax=ax, alpha=.5)\n",
    "plt.legend(prop={'size': 15})"
   ]
  },
  {
   "cell_type": "code",
   "execution_count": 39,
   "metadata": {},
   "outputs": [
    {
     "ename": "AttributeError",
     "evalue": "'GeoDataFrame' object has no attribute 'read_file'",
     "output_type": "error",
     "traceback": [
      "\u001b[0;31m---------------------------------------------------------------------------\u001b[0m",
      "\u001b[0;31mAttributeError\u001b[0m                            Traceback (most recent call last)",
      "\u001b[0;32m<ipython-input-39-4c3901ae1a45>\u001b[0m in \u001b[0;36m<module>\u001b[0;34m\u001b[0m\n\u001b[1;32m      1\u001b[0m \u001b[0;31m#New method to plot data on map with detail\u001b[0m\u001b[0;34m\u001b[0m\u001b[0;34m\u001b[0m\u001b[0;34m\u001b[0m\u001b[0m\n\u001b[1;32m      2\u001b[0m \u001b[0;34m\u001b[0m\u001b[0m\n\u001b[0;32m----> 3\u001b[0;31m \u001b[0mufo_world_map\u001b[0m \u001b[0;34m=\u001b[0m \u001b[0mgeo_alien_df\u001b[0m\u001b[0;34m.\u001b[0m\u001b[0mread_file\u001b[0m\u001b[0;34m(\u001b[0m\u001b[0mgeo_alien_df\u001b[0m\u001b[0;34m.\u001b[0m\u001b[0mdatasets\u001b[0m\u001b[0;34m.\u001b[0m\u001b[0mget_path\u001b[0m\u001b[0;34m(\u001b[0m\u001b[0;34m'naturalearth_lowres'\u001b[0m\u001b[0;34m)\u001b[0m\u001b[0;34m)\u001b[0m\u001b[0;34m\u001b[0m\u001b[0;34m\u001b[0m\u001b[0m\n\u001b[0m\u001b[1;32m      4\u001b[0m \u001b[0mbase\u001b[0m \u001b[0;34m=\u001b[0m \u001b[0mufo_world_map\u001b[0m\u001b[0;34m.\u001b[0m\u001b[0mplot\u001b[0m\u001b[0;34m(\u001b[0m\u001b[0mcolor\u001b[0m\u001b[0;34m=\u001b[0m\u001b[0;34m'white'\u001b[0m\u001b[0;34m,\u001b[0m \u001b[0medgecolor\u001b[0m\u001b[0;34m=\u001b[0m\u001b[0;34m'black'\u001b[0m\u001b[0;34m)\u001b[0m\u001b[0;34m\u001b[0m\u001b[0;34m\u001b[0m\u001b[0m\n\u001b[1;32m      5\u001b[0m \u001b[0mufo_world_map\u001b[0m\u001b[0;34m.\u001b[0m\u001b[0mplot\u001b[0m\u001b[0;34m(\u001b[0m\u001b[0max\u001b[0m\u001b[0;34m=\u001b[0m\u001b[0mbase\u001b[0m\u001b[0;34m,\u001b[0m \u001b[0mmarker\u001b[0m\u001b[0;34m=\u001b[0m\u001b[0;34m'o'\u001b[0m\u001b[0;34m,\u001b[0m \u001b[0mcolor\u001b[0m\u001b[0;34m=\u001b[0m\u001b[0;34m'red'\u001b[0m\u001b[0;34m,\u001b[0m \u001b[0mmarkersize\u001b[0m\u001b[0;34m=\u001b[0m\u001b[0;36m5\u001b[0m\u001b[0;34m)\u001b[0m\u001b[0;34m\u001b[0m\u001b[0;34m\u001b[0m\u001b[0m\n",
      "\u001b[0;32m~/opt/anaconda3/envs/PythonData/lib/python3.6/site-packages/pandas/core/generic.py\u001b[0m in \u001b[0;36m__getattr__\u001b[0;34m(self, name)\u001b[0m\n\u001b[1;32m   5272\u001b[0m             \u001b[0;32mif\u001b[0m \u001b[0mself\u001b[0m\u001b[0;34m.\u001b[0m\u001b[0m_info_axis\u001b[0m\u001b[0;34m.\u001b[0m\u001b[0m_can_hold_identifiers_and_holds_name\u001b[0m\u001b[0;34m(\u001b[0m\u001b[0mname\u001b[0m\u001b[0;34m)\u001b[0m\u001b[0;34m:\u001b[0m\u001b[0;34m\u001b[0m\u001b[0;34m\u001b[0m\u001b[0m\n\u001b[1;32m   5273\u001b[0m                 \u001b[0;32mreturn\u001b[0m \u001b[0mself\u001b[0m\u001b[0;34m[\u001b[0m\u001b[0mname\u001b[0m\u001b[0;34m]\u001b[0m\u001b[0;34m\u001b[0m\u001b[0;34m\u001b[0m\u001b[0m\n\u001b[0;32m-> 5274\u001b[0;31m             \u001b[0;32mreturn\u001b[0m \u001b[0mobject\u001b[0m\u001b[0;34m.\u001b[0m\u001b[0m__getattribute__\u001b[0m\u001b[0;34m(\u001b[0m\u001b[0mself\u001b[0m\u001b[0;34m,\u001b[0m \u001b[0mname\u001b[0m\u001b[0;34m)\u001b[0m\u001b[0;34m\u001b[0m\u001b[0;34m\u001b[0m\u001b[0m\n\u001b[0m\u001b[1;32m   5275\u001b[0m \u001b[0;34m\u001b[0m\u001b[0m\n\u001b[1;32m   5276\u001b[0m     \u001b[0;32mdef\u001b[0m \u001b[0m__setattr__\u001b[0m\u001b[0;34m(\u001b[0m\u001b[0mself\u001b[0m\u001b[0;34m,\u001b[0m \u001b[0mname\u001b[0m\u001b[0;34m:\u001b[0m \u001b[0mstr\u001b[0m\u001b[0;34m,\u001b[0m \u001b[0mvalue\u001b[0m\u001b[0;34m)\u001b[0m \u001b[0;34m->\u001b[0m \u001b[0;32mNone\u001b[0m\u001b[0;34m:\u001b[0m\u001b[0;34m\u001b[0m\u001b[0;34m\u001b[0m\u001b[0m\n",
      "\u001b[0;31mAttributeError\u001b[0m: 'GeoDataFrame' object has no attribute 'read_file'"
     ]
    }
   ],
   "source": [
    "#New method to plot data on map with detail \n",
    "\n",
    "# ufo_world_map = geo_alien_df.read_file(geo_alien_df.datasets.get_path('naturalearth_lowres'))\n",
    "# base = ufo_world_map.plot(color='white', edgecolor='black')\n",
    "# ufo_world_map.plot(ax=base, marker='o', color='red', markersize=5)"
   ]
  },
  {
   "cell_type": "code",
   "execution_count": null,
   "metadata": {},
   "outputs": [],
   "source": []
  }
 ],
 "metadata": {
  "kernelspec": {
   "display_name": "Python 3",
   "language": "python",
   "name": "python3"
  },
  "language_info": {
   "codemirror_mode": {
    "name": "ipython",
    "version": 3
   },
   "file_extension": ".py",
   "mimetype": "text/x-python",
   "name": "python",
   "nbconvert_exporter": "python",
   "pygments_lexer": "ipython3",
   "version": "3.6.10"
  }
 },
 "nbformat": 4,
 "nbformat_minor": 4
}
